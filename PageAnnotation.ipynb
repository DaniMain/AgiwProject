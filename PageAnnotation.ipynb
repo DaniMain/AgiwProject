{
 "cells": [
  {
   "cell_type": "code",
   "execution_count": 8,
   "metadata": {},
   "outputs": [],
   "source": [
    "import requests\n",
    "import matplotlib.pyplot as plt\n",
    "import numpy as np\n",
    "import lxml.html\n",
    "from lxml import etree\n",
    "import xml.etree.ElementTree as ET\n",
    "import string\n",
    "import csv\n",
    "import numpy as np\n",
    "import time"
   ]
  },
  {
   "cell_type": "markdown",
   "metadata": {},
   "source": [
    "# Prove"
   ]
  },
  {
   "cell_type": "code",
   "execution_count": 9,
   "metadata": {},
   "outputs": [
    {
     "name": "stdout",
     "output_type": "stream",
     "text": [
      "[<Element title at 0x11a134908>, <Element meta at 0x11a148278>, <Element meta at 0x11a1482c8>, <Element meta at 0x11a148368>, <Element style at 0x11a1483b8>, <Element h1 at 0x11a148408>, <Element p at 0x11a118e08>, <Element a at 0x1091dd458>]\n"
     ]
    }
   ],
   "source": [
    "link = 'http://www.example.com/'\n",
    "link2 ='http://www.example.it/'\n",
    "\n",
    "#ritorna la get\n",
    "response = requests.get(link)\n",
    "\n",
    "#ritorna l'html della pagina\n",
    "tree = lxml.html.fromstring(response.text)\n",
    "\n",
    "#seleziono tutti i nodi foglie\n",
    "childs = tree.xpath('//*[not(child::*)]')\n",
    "\n",
    "#seleziono il contenuto dei nodi foglia\n",
    "#text = tree.xpath('//*[not(child::*)]/text()')\n",
    "\n",
    "#for child in childs:\n",
    " #   text=child.text\n",
    "\n",
    "print(childs)"
   ]
  },
  {
   "cell_type": "code",
   "execution_count": 15,
   "metadata": {},
   "outputs": [
    {
     "name": "stdout",
     "output_type": "stream",
     "text": [
      "This domain is established to be used for illustrative examples in documents. You may use this\n",
      "    domain in examples without prior coordination or asking for permission.\n"
     ]
    }
   ],
   "source": [
    "c = childs[6]\n",
    "#Alternativa: stampa il contenuto elemento html\n",
    "print(c.text_content())"
   ]
  },
  {
   "cell_type": "code",
   "execution_count": 24,
   "metadata": {},
   "outputs": [
    {
     "name": "stdout",
     "output_type": "stream",
     "text": [
      "p\n"
     ]
    }
   ],
   "source": [
    "print(c.tag)"
   ]
  },
  {
   "cell_type": "markdown",
   "metadata": {},
   "source": [
    "# Inizio Progetto"
   ]
  },
  {
   "cell_type": "code",
   "execution_count": null,
   "metadata": {},
   "outputs": [],
   "source": [
    "#ritorna la get\n",
    "response = requests.get(link)\n",
    "\n",
    "#ritorna l'elemento html della pagina\n",
    "tree = lxml.html.fromstring(response.text)\n",
    "\n",
    "#ritorna la lista dei nodi foglia\n",
    "childs = tree.xpath('//*[not(child::*)]')\n",
    "\n",
    "\n",
    "#lista che conterrà tutti i percorsi radice-foglia della pagina (xPath assoluti)\n",
    "path_list = []\n",
    "\n",
    "#funzione che calcola il path assoluto radice-foglia come stringa\n",
    "def AbsolutePaths(tags):\n",
    "    tmp=''\n",
    "    for tag in tags:\n",
    "        tmp+=tag.tag+'/'\n",
    "    return str(tmp)\n",
    "    \n",
    "\n",
    "#calcolo della lista che contiene gli xpath assoluti alle foglie della pagina \n",
    "for child in childs:\n",
    "    path=''\n",
    "    tags=child.xpath('ancestor::node()')\n",
    "    path+=AbsolutePaths(tags)\n",
    "    path+=str(child.tag)\n",
    "    path_list.append(path)\n",
    "\n",
    "print(path_list)"
   ]
  },
  {
   "cell_type": "code",
   "execution_count": null,
   "metadata": {},
   "outputs": [],
   "source": [
    "#w(x) = f(x)*i(x) peso = frequenza del path nella pagine * information(x)=(1-sommadellafrequenza/)\n",
    "#lista = [(url,xpath,contenuto,peso), (....), (....), .... ]\n",
    "def calcolo_peso_xpath(lista, num_pagine):\n",
    "  for xpath in lista:\n",
    "    #prendo xpath\n",
    "    x = xpath[1]\n",
    "    url = xpath[0]\n",
    "    contenuto = xpath[2]\n",
    "    #calcolo la frequenza e la frequenza del contenuto\n",
    "    frequenza, f_contenuto = find_frequency(url, x, contenuto, lista)\n",
    "    #calcolo della informatività\n",
    "    info = 1 - (f_contenuto/num_pagine)\n",
    "    #calcolo del peso del xpath\n",
    "    peso = frequenza * info\n",
    "    #inserisco il peso nella lista\n",
    "    xpath[3] = peso\n",
    "\n",
    "\n",
    "    \n",
    "def find_frequency(url, xpath, contenuto, lista):\n",
    "  frequenza = 1\n",
    "  f_contenuto = 1\n",
    "  #lista dei url già visti nella ricerca\n",
    "  url_visti = []\n",
    "  url_visti.append(url)\n",
    "  for new_path in lista:\n",
    "    if new_path[0] not in url_visti:\n",
    "      if xpath == new_path[1]:\n",
    "        url_visti.append(new_path[0])\n",
    "        frequenza += 1\n",
    "        if contenuto == new_path[2]:\n",
    "          f_contenuto += 1\n",
    "  \n",
    "  return frequenza, f_contenuto\n",
    "\n",
    "#algoritmo per calcolo della frequenza di Francesco\n",
    "def FrequenzaXpath(xPath):\n",
    "    frequenza_xPath=0\n",
    "    for xj in X:\n",
    "        if(xPath[0]==xj[0]):\n",
    "            break\n",
    "        else:\n",
    "            if(xPath[1]==xj[1] and xPath[2]==xj[2]):\n",
    "                frequenza_xPath+=1\n",
    "    return frequenza_xPath"
   ]
  }
 ],
 "metadata": {
  "kernelspec": {
   "display_name": "Python 3",
   "language": "python",
   "name": "python3"
  },
  "language_info": {
   "codemirror_mode": {
    "name": "ipython",
    "version": 3
   },
   "file_extension": ".py",
   "mimetype": "text/x-python",
   "name": "python",
   "nbconvert_exporter": "python",
   "pygments_lexer": "ipython3",
   "version": "3.6.8"
  }
 },
 "nbformat": 4,
 "nbformat_minor": 2
}
