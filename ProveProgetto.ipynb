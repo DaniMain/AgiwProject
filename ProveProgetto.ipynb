{
 "cells": [
  {
   "cell_type": "code",
   "execution_count": 2,
   "metadata": {},
   "outputs": [],
   "source": [
    "import requests\n",
    "import matplotlib.pyplot as plt\n",
    "import numpy as np\n",
    "import lxml.html\n",
    "from lxml import etree\n",
    "import xml.etree.ElementTree as ET\n",
    "import string\n",
    "import csv\n",
    "import numpy as np\n",
    "import time\n",
    "import socket\n",
    "import re"
   ]
  },
  {
   "cell_type": "markdown",
   "metadata": {},
   "source": [
    "# Vari link"
   ]
  },
  {
   "cell_type": "code",
   "execution_count": 7,
   "metadata": {},
   "outputs": [],
   "source": [
    "linkCatalog = 'https://www.eprice.it/s/audio-video-elettronica/home-video/televisori/smart-tv?sd=rank&fd=1&cluster=16,40.0,50.0&metb=store_tv-categoria1-Da-40-a-50-pollici'\n",
    "linkProd = 'https://www.eprice.it/TV-LED-PHILIPS-TV-LED-ultra-sottile-Full-HD-32PFS5803-12/d-11536471?shopID=-1'\n",
    "\n",
    "linkCatalog2 = 'https://www.zalando.it/sandali-donna/'\n",
    "linkProd2 = 'https://www.zalando.it/raid-marion-stivali-alti-rad11a04u-o11.html?zoom=true'\n",
    "\n",
    "linkProd3 = 'https://www.amazon.it/HISENSE-H43AE6000-Precision-Contrast-Crystal/dp/B07BHRLS7R?ref_=Oct_DLandingS_PC_dd4c0df4_NA&smid=A11IL2PNWYJU7H'\n",
    "linkCatalog3 = 'https://www.amazon.it/s?k=Sony+50+pollici&__mk_it_IT=ÅMÅŽÕÑ&ref=nb_sb_noss_2'\n",
    "\n",
    "linkCatalog4 = 'https://www.monclick.it/vendita_tv-led'\n",
    "linkProd4 = 'https://www.monclick.it/prodotti/8/LCD/philips/43PFS5503%2f12.htm'"
   ]
  },
  {
   "cell_type": "code",
   "execution_count": 33,
   "metadata": {},
   "outputs": [],
   "source": [
    "link1='https://www.laptopdirect.co.za/Lenovo-81J10060SA-lp-217733.php'\n",
    "link2='https://www.laptopdirect.co.za/Lenovo-S130-81J1003RSA-lp-221077.php'\n",
    "link3='https://www.laptopdirect.co.za/Lenovo-81D0004PSA-lp-209769.php'\n",
    "link4='https://www.laptopdirect.co.za/Acer-NX-EFAEA-011-lp-155691.php'\n",
    "link5='https://www.laptopdirect.co.za/Lenovo-LENOVO-IDEAPAD-330-81DE01R7SA-lp-213249.php'\n",
    "link6='https://www.laptopdirect.co.za/HP-3BZ58ES-lp-209784.php'\n",
    "link7='https://www.laptopdirect.co.za/Dell-N3581-I37020U-41TB-W10SL-lp-219344.php'\n",
    "link8='https://www.laptopdirect.co.za/Asus-X543UA-GQ1635T-lp-220486.php'\n",
    "link9='https://www.laptopdirect.co.za/Gigabyte-P47GV7-i777008G1TW10BMR-lp-157213.php'\n",
    "link10='https://www.laptopdirect.co.za/Apple-MRE82-lp-217735.php'\n",
    "linkProd = [link1,link2,link3,link4,link5,link6,link7,link8,link9,link10]\n",
    "\n",
    "link11='https://www.laptopdirect.co.za/Apple-Laptops-ct-893.php'\n",
    "link12='https://www.laptopdirect.co.za/Acer-Laptops-ct-172.php'\n",
    "link13='https://www.laptopdirect.co.za/Alienware-Laptops-ct-673.php'\n",
    "link14='https://www.laptopdirect.co.za/Aorus-Laptops-ct-8676.php'\n",
    "link15='https://www.laptopdirect.co.za/Asus-Laptops-ct-173.php'\n",
    "link16='https://www.laptopdirect.co.za/Dell-Laptops-ct-454.php'\n",
    "link17='https://www.laptopdirect.co.za/HP-Laptops-ct-178.php'\n",
    "link18='https://www.laptopdirect.co.za/Huawei-Laptops-ct-8677.php'\n",
    "link19='https://www.laptopdirect.co.za/MSI-Laptops-ct-181.php'\n",
    "link20='https://www.laptopdirect.co.za/'\n",
    "linkCatalog = [link11,link12,link13,link14,link15,link16,link17,link18,link19,link20]\n",
    "\n",
    "link111 = 'https://www.monclick.it/prodotti/8/LCD/samsung/UE43NU7400UXZT.htm'\n",
    "link122 = 'https://www.monclick.it/prodotti/8/LCD/samsung/UE43NU7190UXZT.htm'\n",
    "link133 = 'https://www.monclick.it/prodotti/8/LCD/samsung/UE55NU7170UXZT.htm'\n",
    "link144 = 'https://www.monclick.it/prodotti/8/LCD/samsung/UE55NU7091UXZT.htm'\n",
    "link155 = 'https://www.monclick.it/prodotti/8/LCD/samsung/UE43LS03NAUXZT.htm'\n",
    "link166 = 'https://www.monclick.it/prodotti/8/LCD/samsung/UE49NU7500UXZT.htm'\n",
    "link177 = 'https://www.monclick.it/prodotti/8/LCD/samsung/UE50NU7090UXZT.htm'\n",
    "link188 = 'https://www.monclick.it/prodotti/8/LCD/samsung/UE55LS03NAUXZT.htm'\n",
    "link199 = 'https://www.monclick.it/prodotti/8/LCD/samsung/UE50NU7400UXZT.htm'\n",
    "linkProd2 = [link111,link122,link133,link144,link155,link166,link177,link188,link199]"
   ]
  },
  {
   "cell_type": "code",
   "execution_count": 38,
   "metadata": {},
   "outputs": [],
   "source": [
    "linkCatalog = []\n",
    "with open('dataset/FoxLink/urlCat.txt', 'r') as file:\n",
    "    for line in file:\n",
    "        linkCatalog.append(line)\n",
    "linkProd = []\n",
    "with open('dataset/FoxLink/urlProd.txt', 'r') as file:\n",
    "    for line in file:\n",
    "        linkProd.append(line)"
   ]
  },
  {
   "cell_type": "code",
   "execution_count": 39,
   "metadata": {},
   "outputs": [
    {
     "data": {
      "text/plain": [
       "'https://www.amazon.it'"
      ]
     },
     "execution_count": 39,
     "metadata": {},
     "output_type": "execute_result"
    }
   ],
   "source": [
    "re.search('https://www.[a-z0-9]+(\\.[a-z]+)+',linkProd[1]).group()"
   ]
  },
  {
   "cell_type": "code",
   "execution_count": 35,
   "metadata": {},
   "outputs": [
    {
     "data": {
      "text/plain": [
       "'https://www.laptopdirect.co.za'"
      ]
     },
     "execution_count": 35,
     "metadata": {},
     "output_type": "execute_result"
    }
   ],
   "source": [
    "re.search('(https?:\\/\\/)?([\\da-z\\.-]+)\\.([a-z\\.]{2,6})', link11).group()"
   ]
  },
  {
   "cell_type": "markdown",
   "metadata": {},
   "source": [
    "# codice Fra 2.0"
   ]
  },
  {
   "cell_type": "code",
   "execution_count": 116,
   "metadata": {
    "collapsed": true
   },
   "outputs": [
    {
     "name": "stdout",
     "output_type": "stream",
     "text": [
      "immagine senza link: \thttps://images-eu.ssl-images-amazon.com/images/G/29/gno/sprites/nav-sprite-global_bluebeacon-V3-1x_optimized._CB453844000_.png\n",
      "immagine senza link: IT_SWM_MD\thttps://images-eu.ssl-images-amazon.com/images/G/29/x-locale/common/transparent-pixel._CB386942691_.gif\n",
      "immagine senza link: None\thttps://images-eu.ssl-images-amazon.com/images/I/513qhsboDGL._SX300_QL70_.jpg\n",
      "immagine senza link: \thttps://images-na.ssl-images-amazon.com/images/I/513qhsboDGL._SS40_.jpg\n",
      "immagine senza link: \thttps://images-na.ssl-images-amazon.com/images/I/41DgpMBdtIL._SS40_.jpg\n",
      "immagine senza link: \thttps://images-na.ssl-images-amazon.com/images/I/51ZG71WAiiL._SS40_.jpg\n",
      "immagine senza link: \thttps://images-na.ssl-images-amazon.com/images/I/41HqZIPxz3L._SS40_.jpg\n",
      "immagine senza link: \thttps://images-na.ssl-images-amazon.com/images/I/21IuSpkWFPL._SS40_.jpg\n",
      "immagine senza link: \thttps://images-na.ssl-images-amazon.com/images/I/31b5CkwALfL._SS40_.jpg\n",
      "immagine senza link: \thttps://images-na.ssl-images-amazon.com/images/I/21MTkHWxcEL._SS40_.jpg\n",
      "immagine senza link: \thttps://images-na.ssl-images-amazon.com/images/G/01/x-locale/common/transparent-pixel._V192234675_.gif\n",
      "immagine senza link: HISENSE H39AE5000 TV LED Full HD, Natural Colour Enhancer, Clean Sound 14W, Motion Picture Enhancer, Tuner DVB-T2/S2 HEVC, 2 HDMI, 1 USB Media Player\thttps://images-eu.ssl-images-amazon.com/images/I/513qhsboDGL._SX300_QL70_.jpg\n",
      "immagine senza link: HISENSE H39AE5000 TV LED Full HD, Natural Colour Enhancer, Clean Sound 14W, Motion Picture Enhancer, Tuner DVB-T2/S2 HEVC, 2 HDMI, 1 USB Media Player\thttps://images-na.ssl-images-amazon.com/images/I/71sI5B4gI3L._AC_UL115_.jpg\n",
      "immagine senza link: HISENSE H39AE5000 TV LED Full HD, Natural Colour Enhancer, Clean Sound 14W, Motion Picture Enhancer, Tuner DVB-T2/S2 HEVC, 2 HDMI, 1 USB Media Player\thttps://images-eu.ssl-images-amazon.com/images/I/513qhsboDGL._SL500_AC_SS350_.jpg\n",
      "immagine senza link: Full HD Feature Hisense LED HD\thttps://m.media-amazon.com/images/S/aplus-media/vc/abf3d2fc-9b93-48e3-97f8-7d7008101743._CR0,0,970,300_PT0_SX970__.jpg\n",
      "immagine senza link: colore immagini\thttps://m.media-amazon.com/images/S/aplus-media/vc/a1497d8a-cde1-4a1d-a4f1-43d25ee72ce3._CR0,0,970,300_PT0_SX970__.jpg\n",
      "immagine senza link: processore quadcore prestazioni\thttps://m.media-amazon.com/images/S/aplus-media/vc/e230f651-1619-433d-adfc-eb38ba80220e._CR0,0,300,300_PT0_SX300__.jpg\n",
      "immagine senza link: movimento effetto scia fluidità\thttps://m.media-amazon.com/images/S/aplus-media/vc/b446a8f5-a4ac-4ad8-86a1-9793e1dbefb9._CR0,0,300,300_PT0_SX300__.jpg\n",
      "immagine senza link: contrasto luminosità\thttps://m.media-amazon.com/images/S/aplus-media/vc/34517412-971b-4273-8ab2-cb2ac4548634._CR0,0,300,300_PT0_SX300__.jpg\n",
      "immagine senza link: suono musica audio stereo\thttps://m.media-amazon.com/images/S/aplus-media/vc/3aaf2e9e-ca27-45f3-bb5c-5257eadece5a._CR0,0,970,300_PT0_SX970__.jpg\n",
      "immagine senza link: usb media player immagini musica video\thttps://m.media-amazon.com/images/S/aplus-media/vc/ced3e28e-b0ec-4b4e-a787-c9efc7df427e._CR0,0,970,300_PT0_SX970__.jpg\n",
      "immagine senza link: None\thttps://images-eu.ssl-images-amazon.com/images/G/29/ui/loadIndicators/loadIndicator-large._CB186988269_.gif\n",
      "immagine senza link: Immagine cliente\thttps://images-na.ssl-images-amazon.com/images/I/61hcWvZNdWL._CR204,0,1224,1224_UX175.jpg\n",
      "immagine senza link: Immagine cliente\thttps://images-na.ssl-images-amazon.com/images/I/61P9znrnfML._CR0,204,1224,1224_UX175.jpg\n",
      "immagine senza link: Immagine cliente\thttps://images-na.ssl-images-amazon.com/images/I/71ps0-9w3tL._CR204,0,1224,1224_UX175.jpg\n",
      "immagine senza link: Immagine cliente\thttps://images-na.ssl-images-amazon.com/images/I/71T4U8s6PgL._CR204,0,1224,1224_UX175.jpg\n",
      "immagine senza link: review image\thttps://images-na.ssl-images-amazon.com/images/G/01/x-locale/common/grey-pixel.gif\n",
      "immagine senza link: review image\thttps://images-na.ssl-images-amazon.com/images/I/61P9znrnfML._SY88.jpg\n",
      "immagine senza link: review image\thttps://images-na.ssl-images-amazon.com/images/G/01/x-locale/common/grey-pixel.gif\n",
      "immagine senza link: review image\thttps://images-na.ssl-images-amazon.com/images/I/71TOhEI-3DL._SY88.jpg\n",
      "immagine senza link: review image\thttps://images-na.ssl-images-amazon.com/images/G/01/x-locale/common/grey-pixel.gif\n",
      "immagine senza link: review image\thttps://images-na.ssl-images-amazon.com/images/I/71IV9y8rqiL._SY88.jpg\n",
      "immagine senza link: review image\thttps://images-na.ssl-images-amazon.com/images/G/01/x-locale/common/grey-pixel.gif\n",
      "immagine senza link: review image\thttps://images-na.ssl-images-amazon.com/images/I/71T4U8s6PgL._SY88.jpg\n",
      "immagine senza link: review image\thttps://images-na.ssl-images-amazon.com/images/G/01/x-locale/common/grey-pixel.gif\n",
      "immagine senza link: review image\thttps://images-na.ssl-images-amazon.com/images/I/71CgEhWoKxL._SY88.jpg\n",
      "immagine senza link: review image\thttps://images-na.ssl-images-amazon.com/images/G/01/x-locale/common/grey-pixel.gif\n",
      "immagine senza link: review image\thttps://images-na.ssl-images-amazon.com/images/I/71Lrn+ojhcL._SY88.jpg\n",
      "immagine senza link: review image\thttps://images-na.ssl-images-amazon.com/images/G/01/x-locale/common/grey-pixel.gif\n",
      "immagine senza link: review image\thttps://images-na.ssl-images-amazon.com/images/I/61hcWvZNdWL._SY88.jpg\n",
      "immagine senza link: review image\thttps://images-na.ssl-images-amazon.com/images/G/01/x-locale/common/grey-pixel.gif\n",
      "immagine senza link: review image\thttps://images-na.ssl-images-amazon.com/images/I/71ps0-9w3tL._SY88.jpg\n"
     ]
    }
   ],
   "source": [
    "def farFromAnchestor(leaf, ancestor, counter):\n",
    "  if counter>=0 and leaf != None:\n",
    "    \n",
    "    if str(leaf.tag) == ancestor:\n",
    "      return leaf\n",
    "    \n",
    "    counter=counter-1\n",
    "    parent=leaf.getparent()\n",
    "    return farFromAnchestor(parent,ancestor,counter)\n",
    "\n",
    "\n",
    "#ritorna la get\n",
    "response = requests.get(linkProd[0])\n",
    "#ritorna l'elemento html della pagina\n",
    "tree = lxml.html.fromstring(response.text)\n",
    "#ritorna la lista dei nodi foglia\n",
    "imgs = tree.xpath('//img[not(child::*)]')\n",
    "\n",
    "\n",
    "#a=tree.xpath(\".//a[contains(@href,'http')\")\n",
    "#a=tree.xpath(\".//a[//img and not(contains(@href, 'http') or contains(@href, 'www'))]/@href\")\n",
    "for child in imgs:\n",
    "  a = farFromAnchestor (child,'a',5)\n",
    "  domain = re.search('https://www.[a-z0-9]+(.[a-z]+)',linkProd[0]).group()\n",
    "  if  a is not None:\n",
    "    href=a.get(\"href\")\n",
    "    if (href.startswith('/')):\n",
    "        href = domain + href\n",
    "    if not (href.endswith(\".html\") or href.startswith(\"http\") or \"contact\" in href or \"compare\" in href \n",
    "            or \"www.\" in href or href.endswith(\".php\") or \"twitter\" in href or \"facebook\" in href \n",
    "            or href == '/' or href == '#' or \"email\" in href): \n",
    "      print(href +\"\\t\"+ str(child.get(\"src\")) + \"\\t\" + str(a.get(\"title\")) + \"\\n\")\n",
    "      #print(str(child.get(\"src\")))\n",
    "      #print(child)\n",
    "\n",
    "\n",
    "  elif a is None:\n",
    "    print(\"immagine senza link: \" + str(child.get(\"alt\"))+ \"\\t\" + str(child.get(\"src\")) )\n",
    "    #print(str(child.get(\"src\")))\n",
    "    #print(child)"
   ]
  },
  {
   "cell_type": "markdown",
   "metadata": {},
   "source": [
    "# Inizio Progetto - Scraper delle immagini"
   ]
  },
  {
   "cell_type": "code",
   "execution_count": 123,
   "metadata": {},
   "outputs": [],
   "source": [
    "def farFromAnchestor(leaf, ancestor, counter):\n",
    "  if counter>=0 and leaf != None:\n",
    "    \n",
    "    if str(leaf.tag) == ancestor:\n",
    "      return leaf\n",
    "    \n",
    "    counter=counter-1\n",
    "    parent=leaf.getparent()\n",
    "    return farFromAnchestor(parent,ancestor,counter)\n",
    "\n",
    "def find_images(cluster, list_img):\n",
    "    for page in cluster:\n",
    "        #ritorna la get\n",
    "        response = requests.get(page)\n",
    "        #ritorna l'elemento html della pagina\n",
    "        tree = lxml.html.fromstring(response.text)\n",
    "        #ritorna la lista dei nodi foglia\n",
    "        imgs = tree.xpath('//img[not(child::*)]')\n",
    "        #trovo il dominio della pagina\n",
    "        domain = re.search('https://www.[a-z0-9]+(.[a-z]+)',page).group()\n",
    "        \n",
    "        for elem in imgs:\n",
    "          #list of element\n",
    "          list_elem = []\n",
    "          a = farFromAnchestor (elem,'a',5) #cerca il nodo che ha un link\n",
    "          if a is not None: #effettua un filtraggio\n",
    "            href=a.get(\"href\")\n",
    "            if href != None:\n",
    "                if (href.startswith('/')):\n",
    "                    href = domain + href\n",
    "                if not (href.endswith(\".html\") or \"http\" in href  or \"contact\" in href or \"compare\" in href \n",
    "                    or \"www.\" in href or href.endswith(\".php\") or \"twitter\" in href or \"facebook\" in href \n",
    "                    or href == '/' or href == '#' or \"email\" in href):\n",
    "                    #print(\"Link: \" + href +\"\\t\"+str(child.get(\"src\"))+\"\\n\")\n",
    "                    list_elem.append(page)\n",
    "                    list_elem.append(str(elem.get(\"src\")))\n",
    "                    list_elem.append(0)\n",
    "                    list_img.append(list_elem)\n",
    "\n",
    "          elif a is None: #elemento che non ha link che porta in altre pagine\n",
    "            \n",
    "            #print('File: ' + str(elem.get(\"alt\"))+ \"\\t\" + str(elem.get(\"src\")))\n",
    "            list_elem.append(page)\n",
    "            list_elem.append(str(elem.get(\"src\")))\n",
    "            list_elem.append(0)\n",
    "            list_img.append(list_elem)"
   ]
  },
  {
   "cell_type": "markdown",
   "metadata": {},
   "source": [
    "# Calcolo del peso"
   ]
  },
  {
   "cell_type": "code",
   "execution_count": 95,
   "metadata": {},
   "outputs": [],
   "source": [
    "def weight_images(list_images, num_pages):\n",
    "    for image in list_images:\n",
    "        f = 1\n",
    "        url = image[0]\n",
    "        src = image[1]\n",
    "        url_visti = [url]\n",
    "        for new_img in list_images:\n",
    "            if new_img[0] not in url_visti and new_img[1] == src:\n",
    "                f += 1\n",
    "                url_visti.append(new_img[0])\n",
    "        \n",
    "        image[2] = 1 - (f/num_pages)"
   ]
  },
  {
   "cell_type": "markdown",
   "metadata": {},
   "source": [
    "# Main"
   ]
  },
  {
   "cell_type": "code",
   "execution_count": null,
   "metadata": {},
   "outputs": [],
   "source": [
    "def Cluster_Labeling(cluster):\n",
    "    list_images = [] # [[url_pagina, src, peso], ... ]\n",
    "    find_images(cluster, list_images)\n",
    "    weight_images(list_images, len(cluster))\n",
    "    \n",
    "    pesoTot = 0.0\n",
    "    for image in list_images:\n",
    "        #print('Peso:', image[2])\n",
    "        pesoTot += image[2]\n",
    "    \n",
    "    print('Peso del cluster:', pesoTot)"
   ]
  },
  {
   "cell_type": "code",
   "execution_count": 124,
   "metadata": {},
   "outputs": [
    {
     "name": "stdout",
     "output_type": "stream",
     "text": [
      "---------- Calcolo sul cluster dei prodotti --------\n",
      "Peso del cluster: 20.888888888888893\n",
      "---------- Calcolo sul cluster dei cataloghi -------\n",
      "Peso del cluster: 4.444444444444445\n"
     ]
    }
   ],
   "source": [
    "print('---------- Calcolo sul cluster dei prodotti --------')\n",
    "Cluster_Labeling(linkProd2)\n",
    "print('---------- Calcolo sul cluster dei cataloghi -------')\n",
    "Cluster_Labeling(linkCatalog)"
   ]
  },
  {
   "cell_type": "markdown",
   "metadata": {},
   "source": [
    "# Altre prove"
   ]
  },
  {
   "cell_type": "code",
   "execution_count": null,
   "metadata": {},
   "outputs": [],
   "source": [
    "def weight_images(list_images, num_pagine):\n",
    "  for image in list_images:\n",
    "    #prendo xpath\n",
    "    url = image[0]\n",
    "    elemTag = image[1]\n",
    "    src = image[2]\n",
    "    #calcolo la frequency, la frequency del contenuto e la cardinalità di t_i\n",
    "    frequency, f_src, t_i = find_f(url,elemTag, src, list_images)\n",
    "    #calcolo della informatività\n",
    "    info = 1 - (f_src / (num_pagine * t_i))\n",
    "    #calcolo del weight del xpath\n",
    "    weight = frequency * info\n",
    "    #inserisco il weight nella lista\n",
    "    image[3] = weight\n",
    "    \n",
    "#Ricerca la frequency e la frequency del contenuto di un certo xpath\n",
    "#e la cardinalità dell'insieme di tutti i contenuti associati a quell'xpath\n",
    "def find_f(url,elemTag, src, lista):\n",
    "  frequency = 1\n",
    "  f_src = 1\n",
    "  #t_i è l'insieme di tutti i contenuti associati a xpath\n",
    "  t_i = [src]\n",
    "  #lista dei url già visti nella ricerca\n",
    "  url_visti = []\n",
    "  url_visti.append(url)\n",
    "  for new_img in lista:\n",
    "    #se allo stesso Tag ho un contenuto diverso da quelli che già ho lo inserisco in t_i\n",
    "    if new_img[1] == elemTag and (new_img[2] not in t_i):\n",
    "      t_i.append(new_path[2])\n",
    "    #calcolo della frequency e di f_src\n",
    "    if new_img[0] not in url_visti:\n",
    "      if new_img[1] == elemTag:\n",
    "        url_visti.append(new_path[0])\n",
    "        frequency += 1\n",
    "        if new_img[2] == src:\n",
    "          f_src += 1\n",
    "  return frequency, f_src, len(t_i)"
   ]
  }
 ],
 "metadata": {
  "kernelspec": {
   "display_name": "Python 3",
   "language": "python",
   "name": "python3"
  },
  "language_info": {
   "codemirror_mode": {
    "name": "ipython",
    "version": 3
   },
   "file_extension": ".py",
   "mimetype": "text/x-python",
   "name": "python",
   "nbconvert_exporter": "python",
   "pygments_lexer": "ipython3",
   "version": "3.6.8"
  }
 },
 "nbformat": 4,
 "nbformat_minor": 2
}
